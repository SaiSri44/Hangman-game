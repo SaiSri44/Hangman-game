{
 "cells": [
  {
   "cell_type": "code",
   "execution_count": 11,
   "metadata": {},
   "outputs": [
    {
     "name": "stdout",
     "output_type": "stream",
     "text": [
      "------ WELCOME TO THE HANGMAN GAME ------\n",
      "enter your name : s\n",
      "godd luck s\n",
      "\n",
      "enter your guess:   s\n",
      "_ _ _ _ \n",
      " you have 11 turns left \n",
      "\n",
      "\n",
      "enter your guess:   r\n",
      "r _ _ _ \n",
      " you have 10 turns left \n",
      "\n",
      "\n",
      "enter your guess:   a\n",
      "r a _ _ \n",
      " you have 9 turns left \n",
      "\n",
      "\n",
      "enter your guess:   c\n",
      "r a c _ \n",
      " you have 8 turns left \n",
      "\n",
      "\n",
      "enter your guess:   e\n",
      "r a c e \n",
      " you have 7 turns left \n",
      "\n",
      "\n",
      "\n",
      " you won the game : \n",
      "\n",
      "the word is race\n"
     ]
    }
   ],
   "source": [
    "def blankspaces(word,guess,guess_word) :\n",
    "    for index,char in enumerate(word) :\n",
    "        if char in guess :\n",
    "            print(char,end=\" \")\n",
    "            guess_word[index] = char\n",
    "            \n",
    "        else :\n",
    "            print('_',end = \" \")\n",
    "            \n",
    "print('------ WELCOME TO THE HANGMAN GAME ------')\n",
    "name = input('enter your name : ')\n",
    "print('godd luck {}'.format(name))\n",
    "import random\n",
    "list = ['saisri','angajala','yamuna','srinivasarao','anuradha','sitarama','krishnamurthy','iitropar','srichaitanya','race']\n",
    "word = random.choice(list)\n",
    "turns = 12\n",
    "failed = 0\n",
    "guess = ''\n",
    "guess_word = [' 'for x in range(0,len(word))]\n",
    "while turns > 0:\n",
    "        guess_char = input('\\nenter your guess:   ')\n",
    "        guess += guess_char    \n",
    "        blankspaces(word,guess,guess_word)\n",
    "        turns-=1\n",
    "        print('\\n you have {} turns left \\n'.format(turns))\n",
    "        if \"\".join(guess_word) == word :\n",
    "            print('\\n\\n you won the game : \\n')\n",
    "            print('the word is {}'.format(word))\n",
    "            break\n",
    "            \n",
    "if turns == 0 :\n",
    "    print('\\n you lost the game...')"
   ]
  },
  {
   "cell_type": "code",
   "execution_count": null,
   "metadata": {},
   "outputs": [],
   "source": []
  }
 ],
 "metadata": {
  "kernelspec": {
   "display_name": "Python 3",
   "language": "python",
   "name": "python3"
  },
  "language_info": {
   "codemirror_mode": {
    "name": "ipython",
    "version": 3
   },
   "file_extension": ".py",
   "mimetype": "text/x-python",
   "name": "python",
   "nbconvert_exporter": "python",
   "pygments_lexer": "ipython3",
   "version": "3.7.6"
  }
 },
 "nbformat": 4,
 "nbformat_minor": 4
}
